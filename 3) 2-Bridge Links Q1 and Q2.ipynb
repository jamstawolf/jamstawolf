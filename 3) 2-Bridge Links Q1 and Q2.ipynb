{
 "cells": [
  {
   "cell_type": "markdown",
   "metadata": {},
   "source": [
    "We introduce a function draw_link_A which draws the 2-bridge link for a rational number p/q."
   ]
  },
  {
   "cell_type": "code",
   "execution_count": 9,
   "metadata": {},
   "outputs": [
    {
     "name": "stdout",
     "output_type": "stream",
     "text": [
      "[3]\n",
      "The continued fraction is [3] and the 2-bridge link diagram is:\n",
      " _____\n",
      "|  _  |\n",
      "| | | |\n",
      "| | \\ /\n",
      "| |  / \n",
      "| | / \\\n",
      "| | | |\n",
      "| | \\ /\n",
      "| |  / \n",
      "| | / \\\n",
      "| | | |\n",
      "| | \\ /\n",
      "| |  / \n",
      "| | / \\\n",
      "| | | |\n",
      "|  -  |\n",
      " ----- \n"
     ]
    },
    {
     "data": {
      "text/plain": [
       "''"
      ]
     },
     "execution_count": 9,
     "metadata": {},
     "output_type": "execute_result"
    }
   ],
   "source": [
    "import math\n",
    "import numpy as np\n",
    "from newfunctions import rational_to_list1, rational_to_list2, list_to_rational \n",
    "\n",
    "def draw_link_A(p, q):\n",
    "    A = rational_to_list1(p, q)\n",
    "    print(A)\n",
    "    #A = []\n",
    "    #for i in range(len(B)):\n",
    "       # if B[i] != 0:\n",
    "        #    A.append(B[i])\n",
    "    print('The continued fraction is', A, 'and the 2-bridge link diagram is:')\n",
    "    print(' _____')\n",
    "    print('|  _  |')\n",
    "    \n",
    "    #A = np.absolute(A)  #If any elements of A are negative, this should make them positive\n",
    "         \n",
    "    for i in range(len(A)):\n",
    "        #if A[i] == 0:\n",
    "            #print('h') #this returns a blank result, since otherwise it returns 'none' if a 0 is present.\n",
    "            \n",
    "        \n",
    "        \n",
    "        #This goes through all the indices of the array/list\n",
    "        #if i == 0:       #Always right over left to begin with.\n",
    "          #  for n in range(A[i]): #This repeats the twist however many times is necessary\n",
    "           #     print(\"| | | |\")\n",
    "           #     print(\"| | \\ /\")\n",
    "           #     print(\"| |  / \")\n",
    "            #    print(\"| | / \\\\\")\n",
    "    \n",
    "        if A[i] > 0:      #If positive number, follow this:\n",
    "            if i == 0:       #Always right over left to begin with.\n",
    "                for n in range(A[i]): #This repeats the twist however many times is necessary\n",
    "                    print(\"| | | |\")\n",
    "                    print(\"| | \\ /\")\n",
    "                    print(\"| |  / \")\n",
    "                    print(\"| | / \\\\\")\n",
    "            \n",
    "            elif (i+1)%2 != 0: #Check if index is even\n",
    "                for n in range(A[i]): #Again, this repeats the twist however many times is necessary\n",
    "                    print(\"| | | |\")\n",
    "                    print(\"| | \\ /\")\n",
    "                    print(\"| |  / \")\n",
    "                    print(\"| | / \\\\\")\n",
    "            else:             #this picks up all the odd indexes\n",
    "                for n in range(A[i]): #Finally, again, this repeats the twist however many times is necessary\n",
    "                    print(\"| \\ / |\")\n",
    "                    print(\"|  \\  |\")\n",
    "                    print(\"| / \\ |\")\n",
    "                    print(\"| | | |\")\n",
    "        else:  #If negative, follow this:\n",
    "            if i == 0:\n",
    "                for n in range(-1*A[i]):       \n",
    "                    print(\"| | \\ /\")\n",
    "                    print(\"| |  \\\\\")\n",
    "                    print(\"| | / \\\\\")\n",
    "                    print(\"| | | |\")\n",
    "            elif (i+1)%2 != 0:  #even\n",
    "                for n in range(-1*A[i]):       \n",
    "                    print(\"| | \\ /\")\n",
    "                    print(\"| |  \\\\\")\n",
    "                    print(\"| | / \\\\\")\n",
    "                    print(\"| | | |\")          #POSSIBLY MOVE THIS LINE TO TOP OF PRINT STATEMENTS, COULD MAKE IT LOOK MORE CLEAN?\n",
    "            else:             #odd\n",
    "                for n in range(-1*A[i]):\n",
    "                    print(\"| | | |\")\n",
    "                    print(\"| \\ / |\")\n",
    "                    print(\"|  /  |\")\n",
    "                    print(\"| / \\ |\")\n",
    "                    \n",
    "                              #POSSIBLY MOVE THIS LINE TO TOP OF PRINT STATEMENTS, COULD MAKE IT LOOK MORE CLEAN?\n",
    "                    \n",
    "            \n",
    "                \n",
    "    if ((len(A)+1)%2) == 0:  #if final entry is even then end it this way:\n",
    "        print(\"| | | |\")\n",
    "        print(\"|  -  |\")\n",
    "        print(\" ----- \")\n",
    "        \n",
    "    else:                   #otherwise end it this way\n",
    "        print(\"| | | |\")\n",
    "        print(\" -   - \")\n",
    "    blank = ''    \n",
    "    return blank\n",
    "    \n",
    "\n",
    "draw_link_A(9, 3)"
   ]
  },
  {
   "cell_type": "markdown",
   "metadata": {},
   "source": [
    "A knot is a circle embedded in 3-dimensonal space (and projected onto 2 dimensions in this case), and hence knots are just one loop. For the link S(p, q), if p is odd, the link is a knot. Below are 4 examples, for S(9, 7), S(3, 2), S(5, 2) and S(7, 3). Each diagram shows that there is only 1 component to the link."
   ]
  },
  {
   "cell_type": "code",
   "execution_count": 4,
   "metadata": {},
   "outputs": [
    {
     "name": "stdout",
     "output_type": "stream",
     "text": [
      "[1, 3, 2]\n",
      "The continued fraction is [1, 3, 2] and the 2-bridge link diagram is:\n",
      " _____\n",
      "|  _  |\n",
      "| | | |\n",
      "| | \\ /\n",
      "| |  / \n",
      "| | / \\\n",
      "| \\ / |\n",
      "|  \\  |\n",
      "| / \\ |\n",
      "| | | |\n",
      "| \\ / |\n",
      "|  \\  |\n",
      "| / \\ |\n",
      "| | | |\n",
      "| \\ / |\n",
      "|  \\  |\n",
      "| / \\ |\n",
      "| | | |\n",
      "| | | |\n",
      "| | \\ /\n",
      "| |  / \n",
      "| | / \\\n",
      "| | | |\n",
      "| | \\ /\n",
      "| |  / \n",
      "| | / \\\n",
      "| | | |\n",
      "|  -  |\n",
      " ----- \n"
     ]
    }
   ],
   "source": [
    "draw_link_A(9, 7)"
   ]
  },
  {
   "cell_type": "code",
   "execution_count": 5,
   "metadata": {},
   "outputs": [
    {
     "name": "stdout",
     "output_type": "stream",
     "text": [
      "[1, 2]\n",
      "The continued fraction is [1, 2] and the 2-bridge link diagram is:\n",
      " _____\n",
      "|  _  |\n",
      "| | | |\n",
      "| | \\ /\n",
      "| |  / \n",
      "| | / \\\n",
      "| \\ / |\n",
      "|  \\  |\n",
      "| / \\ |\n",
      "| | | |\n",
      "| \\ / |\n",
      "|  \\  |\n",
      "| / \\ |\n",
      "| | | |\n",
      "| | | |\n",
      " -   - \n"
     ]
    }
   ],
   "source": [
    "draw_link_A(3, 2)"
   ]
  },
  {
   "cell_type": "code",
   "execution_count": 4,
   "metadata": {},
   "outputs": [
    {
     "name": "stdout",
     "output_type": "stream",
     "text": [
      "The continued fraction is [2, 2] and the 2-bridge link diagram is:\n",
      " _____\n",
      "|  _  |\n",
      "| | | |\n",
      "| | \\ /\n",
      "| |  / \n",
      "| | / \\\n",
      "| | | |\n",
      "| | \\ /\n",
      "| |  / \n",
      "| | / \\\n",
      "| \\ / |\n",
      "|  \\  |\n",
      "| / \\ |\n",
      "| | | |\n",
      "| \\ / |\n",
      "|  \\  |\n",
      "| / \\ |\n",
      "| | | |\n",
      "| | | |\n",
      " -   - \n"
     ]
    }
   ],
   "source": [
    "draw_link_A(5, 2)"
   ]
  },
  {
   "cell_type": "code",
   "execution_count": 5,
   "metadata": {},
   "outputs": [
    {
     "name": "stdout",
     "output_type": "stream",
     "text": [
      "The continued fraction is [2, 3] and the 2-bridge link diagram is:\n",
      " _____\n",
      "|  _  |\n",
      "| | | |\n",
      "| | \\ /\n",
      "| |  / \n",
      "| | / \\\n",
      "| | | |\n",
      "| | \\ /\n",
      "| |  / \n",
      "| | / \\\n",
      "| \\ / |\n",
      "|  \\  |\n",
      "| / \\ |\n",
      "| | | |\n",
      "| \\ / |\n",
      "|  \\  |\n",
      "| / \\ |\n",
      "| | | |\n",
      "| \\ / |\n",
      "|  \\  |\n",
      "| / \\ |\n",
      "| | | |\n",
      "| | | |\n",
      " -   - \n"
     ]
    }
   ],
   "source": [
    "draw_link_A(7, 3)"
   ]
  },
  {
   "cell_type": "markdown",
   "metadata": {},
   "source": [
    "In contrast, if p is even, then S(p, q) has 2-components instead of one continous loop. Below are 4 more examples for even p, S(4, 3), S(6, 5), S(8, 5), S(10, 3).\n"
   ]
  },
  {
   "cell_type": "code",
   "execution_count": 6,
   "metadata": {},
   "outputs": [
    {
     "name": "stdout",
     "output_type": "stream",
     "text": [
      "The continued fraction is [1, 3] and the 2-bridge link diagram is:\n",
      " _____\n",
      "|  _  |\n",
      "| | | |\n",
      "| | \\ /\n",
      "| |  / \n",
      "| | / \\\n",
      "| \\ / |\n",
      "|  \\  |\n",
      "| / \\ |\n",
      "| | | |\n",
      "| \\ / |\n",
      "|  \\  |\n",
      "| / \\ |\n",
      "| | | |\n",
      "| \\ / |\n",
      "|  \\  |\n",
      "| / \\ |\n",
      "| | | |\n",
      "| | | |\n",
      " -   - \n"
     ]
    }
   ],
   "source": [
    "draw_link_A(4, 3)"
   ]
  },
  {
   "cell_type": "code",
   "execution_count": 7,
   "metadata": {},
   "outputs": [
    {
     "name": "stdout",
     "output_type": "stream",
     "text": [
      "The continued fraction is [1, 5] and the 2-bridge link diagram is:\n",
      " _____\n",
      "|  _  |\n",
      "| | | |\n",
      "| | \\ /\n",
      "| |  / \n",
      "| | / \\\n",
      "| \\ / |\n",
      "|  \\  |\n",
      "| / \\ |\n",
      "| | | |\n",
      "| \\ / |\n",
      "|  \\  |\n",
      "| / \\ |\n",
      "| | | |\n",
      "| \\ / |\n",
      "|  \\  |\n",
      "| / \\ |\n",
      "| | | |\n",
      "| \\ / |\n",
      "|  \\  |\n",
      "| / \\ |\n",
      "| | | |\n",
      "| \\ / |\n",
      "|  \\  |\n",
      "| / \\ |\n",
      "| | | |\n",
      "| | | |\n",
      " -   - \n"
     ]
    }
   ],
   "source": [
    "draw_link_A(6, 5)"
   ]
  },
  {
   "cell_type": "code",
   "execution_count": 8,
   "metadata": {},
   "outputs": [
    {
     "name": "stdout",
     "output_type": "stream",
     "text": [
      "The continued fraction is [1, 1, 1, 2] and the 2-bridge link diagram is:\n",
      " _____\n",
      "|  _  |\n",
      "| | | |\n",
      "| | \\ /\n",
      "| |  / \n",
      "| | / \\\n",
      "| \\ / |\n",
      "|  \\  |\n",
      "| / \\ |\n",
      "| | | |\n",
      "| | | |\n",
      "| | \\ /\n",
      "| |  / \n",
      "| | / \\\n",
      "| \\ / |\n",
      "|  \\  |\n",
      "| / \\ |\n",
      "| | | |\n",
      "| \\ / |\n",
      "|  \\  |\n",
      "| / \\ |\n",
      "| | | |\n",
      "| | | |\n",
      " -   - \n"
     ]
    }
   ],
   "source": [
    "draw_link_A(8, 5)"
   ]
  },
  {
   "cell_type": "code",
   "execution_count": 9,
   "metadata": {},
   "outputs": [
    {
     "name": "stdout",
     "output_type": "stream",
     "text": [
      "The continued fraction is [3, 3] and the 2-bridge link diagram is:\n",
      " _____\n",
      "|  _  |\n",
      "| | | |\n",
      "| | \\ /\n",
      "| |  / \n",
      "| | / \\\n",
      "| | | |\n",
      "| | \\ /\n",
      "| |  / \n",
      "| | / \\\n",
      "| | | |\n",
      "| | \\ /\n",
      "| |  / \n",
      "| | / \\\n",
      "| \\ / |\n",
      "|  \\  |\n",
      "| / \\ |\n",
      "| | | |\n",
      "| \\ / |\n",
      "|  \\  |\n",
      "| / \\ |\n",
      "| | | |\n",
      "| \\ / |\n",
      "|  \\  |\n",
      "| / \\ |\n",
      "| | | |\n",
      "| | | |\n",
      " -   - \n"
     ]
    }
   ],
   "source": [
    "draw_link_A(10, 3)"
   ]
  },
  {
   "cell_type": "markdown",
   "metadata": {},
   "source": [
    "Now we introduce a new function, draw_link_B, to draw links, which forms a different continued fraction from the rational number p/q, and draws the diagram. "
   ]
  },
  {
   "cell_type": "code",
   "execution_count": 10,
   "metadata": {},
   "outputs": [],
   "source": [
    "def draw_link_B(p, q):\n",
    "    A = rational_to_list2(p, q)\n",
    "     #= []\n",
    "    #for i in range(len(B)):\n",
    "        #if B[i] != 0:\n",
    "            #A.append(B[i])\n",
    "    print('The continued fraction is', A, 'and the 2-bridge link diagram is:')\n",
    "    print(' _____')\n",
    "    print('|  _  |')\n",
    "    \n",
    "    #A = np.absolute(A)  #If any elements of A are negative, this should make them positive\n",
    "         \n",
    "    for i in range(len(A)): #This goes through all the indices of the array/list\n",
    "        #if i == 0:       #Always right over left to begin with.\n",
    "          #  for n in range(A[i]): #This repeats the twist however many times is necessary\n",
    "         #       print(\"| | | |\")\n",
    "          #      print(\"| | \\ /\")\n",
    "          #      print(\"| |  / \")\n",
    "          #      print(\"| | / \\\\\")\n",
    "            \n",
    "        if A[i] > 0:      #If positive number, follow this:\n",
    "            if i == 0:       #Always right over left to begin with.\n",
    "                for n in range(A[i]): #This repeats the twist however many times is necessary\n",
    "                    print(\"| | | |\")\n",
    "                    print(\"| | \\ /\")\n",
    "                    print(\"| |  / \")\n",
    "                    print(\"| | / \\\\\")\n",
    "            elif (i+1)%2 != 0: #Check if index is even\n",
    "                for n in range(A[i]): #Again, this repeats the twist however many times is necessary\n",
    "                    print(\"| | | |\")\n",
    "                    print(\"| | \\ /\")\n",
    "                    print(\"| |  / \")\n",
    "                    print(\"| | / \\\\\")\n",
    "            else:             #this picks up all the odd indexes\n",
    "                for n in range(A[i]): #Finally, again, this repeats the twist however many times is necessary\n",
    "                    print(\"| \\ / |\")\n",
    "                    print(\"|  \\  |\")\n",
    "                    print(\"| / \\ |\")\n",
    "                    print(\"| | | |\")\n",
    "        else:  #If negative, follow this:\n",
    "            if i == 0:\n",
    "                for n in range(-1*A[i]):       \n",
    "                    print(\"| | \\ /\")\n",
    "                    print(\"| |  \\\\\")\n",
    "                    print(\"| | / \\\\\")\n",
    "                    print(\"| | | |\")\n",
    "            elif (i+1)%2 != 0:  #even\n",
    "                for n in range(-1*A[i]):       \n",
    "                    print(\"| | \\ /\")\n",
    "                    print(\"| |  \\\\\")\n",
    "                    print(\"| | / \\\\\")\n",
    "                    print(\"| | | |\")          #POSSIBLY MOVE THIS LINE TO TOP OF PRINT STATEMENTS, COULD MAKE IT LOOK MORE CLEAN?\n",
    "            else:             #odd\n",
    "                for n in range(-1*A[i]):\n",
    "                    print(\"| | | |\")\n",
    "                    print(\"| \\ / |\")\n",
    "                    print(\"|  /  |\")\n",
    "                    print(\"| / \\ |\")\n",
    "                              #POSSIBLY MOVE THIS LINE TO TOP OF PRINT STATEMENTS, COULD MAKE IT LOOK MORE CLEAN?\n",
    "                    \n",
    "            \n",
    "                \n",
    "    if ((len(A)+1)%2) == 0:  #if final entry is even then end it this way:\n",
    "        print(\"| | | |\")\n",
    "        print(\"|  -  |\")\n",
    "        print(\" ----- \")\n",
    "        \n",
    "    else:                   #otherwise end it this way\n",
    "        print(\"| | | |\")\n",
    "        print(\" -   - \")"
   ]
  },
  {
   "cell_type": "code",
   "execution_count": null,
   "metadata": {},
   "outputs": [],
   "source": []
  },
  {
   "cell_type": "markdown",
   "metadata": {},
   "source": [
    "draw_link_A and draw_link_B both draw diagrams from p/q, but use different continued fractions and hence the diagrams look different. We will show that depsite the continued fraction being different, they both represent the link S(p, q)."
   ]
  },
  {
   "cell_type": "code",
   "execution_count": 11,
   "metadata": {},
   "outputs": [
    {
     "name": "stdout",
     "output_type": "stream",
     "text": [
      "The continued fraction is [1, 2] and the 2-bridge link diagram is:\n",
      " _____\n",
      "|  _  |\n",
      "| | | |\n",
      "| | \\ /\n",
      "| |  / \n",
      "| | / \\\n",
      "| \\ / |\n",
      "|  \\  |\n",
      "| / \\ |\n",
      "| | | |\n",
      "| \\ / |\n",
      "|  \\  |\n",
      "| / \\ |\n",
      "| | | |\n",
      "| | | |\n",
      " -   - \n",
      "The continued fraction is [2, -2] and the 2-bridge link diagram is:\n",
      " _____\n",
      "|  _  |\n",
      "| | | |\n",
      "| | \\ /\n",
      "| |  / \n",
      "| | / \\\n",
      "| | | |\n",
      "| | \\ /\n",
      "| |  / \n",
      "| | / \\\n",
      "| | | |\n",
      "| \\ / |\n",
      "|  /  |\n",
      "| / \\ |\n",
      "| | | |\n",
      "| \\ / |\n",
      "|  /  |\n",
      "| / \\ |\n",
      "| | | |\n",
      " -   - \n"
     ]
    }
   ],
   "source": [
    "draw_link_A(3, 2)\n",
    "draw_link_B(3, 2)"
   ]
  },
  {
   "cell_type": "markdown",
   "metadata": {},
   "source": [
    "If we label the 4 different lines as 1, 2, 3, 4, going from left to right, then to go from the [1, 2] diagram to the [2, -2] diagram, follow these steps:\n",
    "Firstly, lift line 4 over to the left to become the left-most line. Then lift line 2 over to the right to become the right-most line. This successfully transforms between the two diagrams without any lines having to pass through eachother and therefore they represent the same knot."
   ]
  },
  {
   "cell_type": "code",
   "execution_count": 12,
   "metadata": {},
   "outputs": [
    {
     "name": "stdout",
     "output_type": "stream",
     "text": [
      "The continued fraction is [2, 2] and the 2-bridge link diagram is:\n",
      " _____\n",
      "|  _  |\n",
      "| | | |\n",
      "| | \\ /\n",
      "| |  / \n",
      "| | / \\\n",
      "| | | |\n",
      "| | \\ /\n",
      "| |  / \n",
      "| | / \\\n",
      "| \\ / |\n",
      "|  \\  |\n",
      "| / \\ |\n",
      "| | | |\n",
      "| \\ / |\n",
      "|  \\  |\n",
      "| / \\ |\n",
      "| | | |\n",
      "| | | |\n",
      " -   - \n",
      "The continued fraction is [3, -2] and the 2-bridge link diagram is:\n",
      " _____\n",
      "|  _  |\n",
      "| | | |\n",
      "| | \\ /\n",
      "| |  / \n",
      "| | / \\\n",
      "| | | |\n",
      "| | \\ /\n",
      "| |  / \n",
      "| | / \\\n",
      "| | | |\n",
      "| | \\ /\n",
      "| |  / \n",
      "| | / \\\n",
      "| | | |\n",
      "| \\ / |\n",
      "|  /  |\n",
      "| / \\ |\n",
      "| | | |\n",
      "| \\ / |\n",
      "|  /  |\n",
      "| / \\ |\n",
      "| | | |\n",
      " -   - \n"
     ]
    }
   ],
   "source": [
    "draw_link_A(5, 2)\n",
    "draw_link_B(5, 2)"
   ]
  },
  {
   "cell_type": "markdown",
   "metadata": {},
   "source": [
    "Again, labelling the lines from left to right as 1, 2, 3 and 4. To change the [2, 2] diagram to [3, -2], follow these steps: pull the middle maxima up (between 2 and 3), so it intersects the top maxima. This creates two new twists, however we only want one extra, so we pull line 3 (at the bottom) over to become the far left line. This flips the original left-over-right twists in the middle to become right-over-left. So we have transformed the [2, 2] diagram to [3, -2], without any lines passing through each other."
   ]
  },
  {
   "cell_type": "code",
   "execution_count": 13,
   "metadata": {},
   "outputs": [
    {
     "name": "stdout",
     "output_type": "stream",
     "text": [
      "The continued fraction is [1, 1, 2] and the 2-bridge link diagram is:\n",
      " _____\n",
      "|  _  |\n",
      "| | | |\n",
      "| | \\ /\n",
      "| |  / \n",
      "| | / \\\n",
      "| \\ / |\n",
      "|  \\  |\n",
      "| / \\ |\n",
      "| | | |\n",
      "| | | |\n",
      "| | \\ /\n",
      "| |  / \n",
      "| | / \\\n",
      "| | | |\n",
      "| | \\ /\n",
      "| |  / \n",
      "| | / \\\n",
      "| | | |\n",
      "|  -  |\n",
      " ----- \n",
      "The continued fraction is [2, -3] and the 2-bridge link diagram is:\n",
      " _____\n",
      "|  _  |\n",
      "| | | |\n",
      "| | \\ /\n",
      "| |  / \n",
      "| | / \\\n",
      "| | | |\n",
      "| | \\ /\n",
      "| |  / \n",
      "| | / \\\n",
      "| | | |\n",
      "| \\ / |\n",
      "|  /  |\n",
      "| / \\ |\n",
      "| | | |\n",
      "| \\ / |\n",
      "|  /  |\n",
      "| / \\ |\n",
      "| | | |\n",
      "| \\ / |\n",
      "|  /  |\n",
      "| / \\ |\n",
      "| | | |\n",
      " -   - \n"
     ]
    }
   ],
   "source": [
    "draw_link_A(5, 3)\n",
    "draw_link_B(5, 3)"
   ]
  },
  {
   "cell_type": "markdown",
   "metadata": {},
   "source": [
    "These two knots are also equivalent, as they can be transformed into each other without passing the lines through each other (e.g by only using Reidemeister Moves). To change from [2, -3] to [1, 1, 2] we pull the right 'leg' at the bottom under the left leg, so it resembles the base of the knot we are trying to get to. Then we lift and twist the second-from-the-left line over to the right, and we get the [1, 1, 2] diagram. "
   ]
  },
  {
   "cell_type": "markdown",
   "metadata": {},
   "source": [
    "Now we will verify that S(p, q) = S(p, q+np),"
   ]
  },
  {
   "cell_type": "code",
   "execution_count": 15,
   "metadata": {},
   "outputs": [
    {
     "name": "stdout",
     "output_type": "stream",
     "text": [
      "The continued fraction is [1, 1, 2] and the 2-bridge link diagram is:\n",
      " _____\n",
      "|  _  |\n",
      "| | | |\n",
      "| | \\ /\n",
      "| |  / \n",
      "| | / \\\n",
      "| \\ / |\n",
      "|  \\  |\n",
      "| / \\ |\n",
      "| | | |\n",
      "| | | |\n",
      "| | \\ /\n",
      "| |  / \n",
      "| | / \\\n",
      "| | | |\n",
      "| | \\ /\n",
      "| |  / \n",
      "| | / \\\n",
      "| | | |\n",
      "|  -  |\n",
      " ----- \n"
     ]
    }
   ],
   "source": [
    "draw_link_A(5, 3)"
   ]
  },
  {
   "cell_type": "markdown",
   "metadata": {},
   "source": [
    "For the next graph, we plot S(5, 3+5). This is clearly the same as S(5, 3), since it can be formed by simply adding one twist on the middle two strings before the twist on the right strings, which is possible without any strings passing through each other."
   ]
  },
  {
   "cell_type": "code",
   "execution_count": 16,
   "metadata": {},
   "outputs": [
    {
     "name": "stdout",
     "output_type": "stream",
     "text": [
      "The continued fraction is [0, 1, 1, 1, 2] and the 2-bridge link diagram is:\n",
      " _____\n",
      "|  _  |\n",
      "| \\ / |\n",
      "|  \\  |\n",
      "| / \\ |\n",
      "| | | |\n",
      "| | | |\n",
      "| | \\ /\n",
      "| |  / \n",
      "| | / \\\n",
      "| \\ / |\n",
      "|  \\  |\n",
      "| / \\ |\n",
      "| | | |\n",
      "| | | |\n",
      "| | \\ /\n",
      "| |  / \n",
      "| | / \\\n",
      "| | | |\n",
      "| | \\ /\n",
      "| |  / \n",
      "| | / \\\n",
      "| | | |\n",
      "|  -  |\n",
      " ----- \n"
     ]
    }
   ],
   "source": [
    "draw_link_A(5, 3 + 5)"
   ]
  },
  {
   "cell_type": "markdown",
   "metadata": {},
   "source": [
    "Now for the next graph, we plot S(5, 3+(2*5)) which is also equivalent to both S(5, 3) and S(5, 3+5), since you just add an additional twist on the middle two strings (which again is possible without any strings passing through each other."
   ]
  },
  {
   "cell_type": "code",
   "execution_count": 17,
   "metadata": {},
   "outputs": [
    {
     "name": "stdout",
     "output_type": "stream",
     "text": [
      "The continued fraction is [0, 2, 1, 1, 2] and the 2-bridge link diagram is:\n",
      " _____\n",
      "|  _  |\n",
      "| \\ / |\n",
      "|  \\  |\n",
      "| / \\ |\n",
      "| | | |\n",
      "| \\ / |\n",
      "|  \\  |\n",
      "| / \\ |\n",
      "| | | |\n",
      "| | | |\n",
      "| | \\ /\n",
      "| |  / \n",
      "| | / \\\n",
      "| \\ / |\n",
      "|  \\  |\n",
      "| / \\ |\n",
      "| | | |\n",
      "| | | |\n",
      "| | \\ /\n",
      "| |  / \n",
      "| | / \\\n",
      "| | | |\n",
      "| | \\ /\n",
      "| |  / \n",
      "| | / \\\n",
      "| | | |\n",
      "|  -  |\n",
      " ----- \n"
     ]
    }
   ],
   "source": [
    "draw_link_A(5, 3 + 2*5)"
   ]
  },
  {
   "cell_type": "markdown",
   "metadata": {},
   "source": [
    "We'll verify this for another S(p, q): S(3, 2), S(3, 2+3), S(3, 2+(2*3))"
   ]
  },
  {
   "cell_type": "code",
   "execution_count": 18,
   "metadata": {},
   "outputs": [
    {
     "name": "stdout",
     "output_type": "stream",
     "text": [
      "The continued fraction is [1, 2] and the 2-bridge link diagram is:\n",
      " _____\n",
      "|  _  |\n",
      "| | | |\n",
      "| | \\ /\n",
      "| |  / \n",
      "| | / \\\n",
      "| \\ / |\n",
      "|  \\  |\n",
      "| / \\ |\n",
      "| | | |\n",
      "| \\ / |\n",
      "|  \\  |\n",
      "| / \\ |\n",
      "| | | |\n",
      "| | | |\n",
      " -   - \n"
     ]
    }
   ],
   "source": [
    "draw_link_A(3, 2)"
   ]
  },
  {
   "cell_type": "code",
   "execution_count": 19,
   "metadata": {},
   "outputs": [
    {
     "name": "stdout",
     "output_type": "stream",
     "text": [
      "The continued fraction is [0, 1, 1, 2] and the 2-bridge link diagram is:\n",
      " _____\n",
      "|  _  |\n",
      "| \\ / |\n",
      "|  \\  |\n",
      "| / \\ |\n",
      "| | | |\n",
      "| | | |\n",
      "| | \\ /\n",
      "| |  / \n",
      "| | / \\\n",
      "| \\ / |\n",
      "|  \\  |\n",
      "| / \\ |\n",
      "| | | |\n",
      "| \\ / |\n",
      "|  \\  |\n",
      "| / \\ |\n",
      "| | | |\n",
      "| | | |\n",
      " -   - \n"
     ]
    }
   ],
   "source": [
    "draw_link_A(3, 2+3)"
   ]
  },
  {
   "cell_type": "code",
   "execution_count": 20,
   "metadata": {},
   "outputs": [
    {
     "name": "stdout",
     "output_type": "stream",
     "text": [
      "The continued fraction is [0, 2, 1, 2] and the 2-bridge link diagram is:\n",
      " _____\n",
      "|  _  |\n",
      "| \\ / |\n",
      "|  \\  |\n",
      "| / \\ |\n",
      "| | | |\n",
      "| \\ / |\n",
      "|  \\  |\n",
      "| / \\ |\n",
      "| | | |\n",
      "| | | |\n",
      "| | \\ /\n",
      "| |  / \n",
      "| | / \\\n",
      "| \\ / |\n",
      "|  \\  |\n",
      "| / \\ |\n",
      "| | | |\n",
      "| \\ / |\n",
      "|  \\  |\n",
      "| / \\ |\n",
      "| | | |\n",
      "| | | |\n",
      " -   - \n"
     ]
    }
   ],
   "source": [
    "draw_link_A(3,2+(2*3))"
   ]
  },
  {
   "cell_type": "markdown",
   "metadata": {},
   "source": [
    "Clearly we can see that this is the same as the previous examples, in that all 3 knots are equivalent: the S(3, 2) diagram is easily transformed into the S(3, 2+3) diagram by adding a single twist in the 2 middle lines before the first twists on the right-most lines. Then the S(3, 2+(2+3)) diagram can easily be formed from the S(3, 2+3) diagram by simply adding another twist in the middle 2 lines."
   ]
  },
  {
   "cell_type": "code",
   "execution_count": null,
   "metadata": {},
   "outputs": [],
   "source": []
  },
  {
   "cell_type": "markdown",
   "metadata": {},
   "source": [
    "We add one more example to verify that S(p, q) = S(p, q+np). We will use S(4, 3), S(4, 3+4) and S(4, 3+(2*4))"
   ]
  },
  {
   "cell_type": "code",
   "execution_count": 21,
   "metadata": {},
   "outputs": [
    {
     "name": "stdout",
     "output_type": "stream",
     "text": [
      "The continued fraction is [1, 3] and the 2-bridge link diagram is:\n",
      " _____\n",
      "|  _  |\n",
      "| | | |\n",
      "| | \\ /\n",
      "| |  / \n",
      "| | / \\\n",
      "| \\ / |\n",
      "|  \\  |\n",
      "| / \\ |\n",
      "| | | |\n",
      "| \\ / |\n",
      "|  \\  |\n",
      "| / \\ |\n",
      "| | | |\n",
      "| \\ / |\n",
      "|  \\  |\n",
      "| / \\ |\n",
      "| | | |\n",
      "| | | |\n",
      " -   - \n",
      "The continued fraction is [0, 1, 1, 3] and the 2-bridge link diagram is:\n",
      " _____\n",
      "|  _  |\n",
      "| \\ / |\n",
      "|  \\  |\n",
      "| / \\ |\n",
      "| | | |\n",
      "| | | |\n",
      "| | \\ /\n",
      "| |  / \n",
      "| | / \\\n",
      "| \\ / |\n",
      "|  \\  |\n",
      "| / \\ |\n",
      "| | | |\n",
      "| \\ / |\n",
      "|  \\  |\n",
      "| / \\ |\n",
      "| | | |\n",
      "| \\ / |\n",
      "|  \\  |\n",
      "| / \\ |\n",
      "| | | |\n",
      "| | | |\n",
      " -   - \n",
      "The continued fraction is [0, 2, 1, 3] and the 2-bridge link diagram is:\n",
      " _____\n",
      "|  _  |\n",
      "| \\ / |\n",
      "|  \\  |\n",
      "| / \\ |\n",
      "| | | |\n",
      "| \\ / |\n",
      "|  \\  |\n",
      "| / \\ |\n",
      "| | | |\n",
      "| | | |\n",
      "| | \\ /\n",
      "| |  / \n",
      "| | / \\\n",
      "| \\ / |\n",
      "|  \\  |\n",
      "| / \\ |\n",
      "| | | |\n",
      "| \\ / |\n",
      "|  \\  |\n",
      "| / \\ |\n",
      "| | | |\n",
      "| \\ / |\n",
      "|  \\  |\n",
      "| / \\ |\n",
      "| | | |\n",
      "| | | |\n",
      " -   - \n",
      "The continued fraction is [0, 3, 1, 3] and the 2-bridge link diagram is:\n",
      " _____\n",
      "|  _  |\n",
      "| \\ / |\n",
      "|  \\  |\n",
      "| / \\ |\n",
      "| | | |\n",
      "| \\ / |\n",
      "|  \\  |\n",
      "| / \\ |\n",
      "| | | |\n",
      "| \\ / |\n",
      "|  \\  |\n",
      "| / \\ |\n",
      "| | | |\n",
      "| | | |\n",
      "| | \\ /\n",
      "| |  / \n",
      "| | / \\\n",
      "| \\ / |\n",
      "|  \\  |\n",
      "| / \\ |\n",
      "| | | |\n",
      "| \\ / |\n",
      "|  \\  |\n",
      "| / \\ |\n",
      "| | | |\n",
      "| \\ / |\n",
      "|  \\  |\n",
      "| / \\ |\n",
      "| | | |\n",
      "| | | |\n",
      " -   - \n"
     ]
    }
   ],
   "source": [
    "draw_link_A(4, 3)\n",
    "draw_link_A(4, 3+4)\n",
    "draw_link_A(4, 3+(2*4))\n",
    "draw_link_A(4, 3+(3*4))"
   ]
  },
  {
   "cell_type": "markdown",
   "metadata": {},
   "source": [
    "This example is the exact same as the previous examples, in that it appears that for S(p, q+np), n twists are added on the middle two lines at the top, which is easily done without any lines crossing, and hence for these examples it is clear that the link S(p, q) is equivalent to S(p, q+np)."
   ]
  },
  {
   "cell_type": "code",
   "execution_count": 22,
   "metadata": {},
   "outputs": [
    {
     "name": "stdout",
     "output_type": "stream",
     "text": [
      "The continued fraction is [-2, 3] and the 2-bridge link diagram is:\n",
      " _____\n",
      "|  _  |\n",
      "| | \\ /\n",
      "| |  \\\n",
      "| | / \\\n",
      "| | | |\n",
      "| | \\ /\n",
      "| |  \\\n",
      "| | / \\\n",
      "| | | |\n",
      "| \\ / |\n",
      "|  \\  |\n",
      "| / \\ |\n",
      "| | | |\n",
      "| \\ / |\n",
      "|  \\  |\n",
      "| / \\ |\n",
      "| | | |\n",
      "| \\ / |\n",
      "|  \\  |\n",
      "| / \\ |\n",
      "| | | |\n",
      "| | | |\n",
      " -   - \n",
      "The continued fraction is [1, 1, 2] and the 2-bridge link diagram is:\n",
      " _____\n",
      "|  _  |\n",
      "| | | |\n",
      "| | \\ /\n",
      "| |  / \n",
      "| | / \\\n",
      "| \\ / |\n",
      "|  \\  |\n",
      "| / \\ |\n",
      "| | | |\n",
      "| | | |\n",
      "| | \\ /\n",
      "| |  / \n",
      "| | / \\\n",
      "| | | |\n",
      "| | \\ /\n",
      "| |  / \n",
      "| | / \\\n",
      "| | | |\n",
      "|  -  |\n",
      " ----- \n",
      "The continued fraction is [2, 2] and the 2-bridge link diagram is:\n",
      " _____\n",
      "|  _  |\n",
      "| | | |\n",
      "| | \\ /\n",
      "| |  / \n",
      "| | / \\\n",
      "| | | |\n",
      "| | \\ /\n",
      "| |  / \n",
      "| | / \\\n",
      "| \\ / |\n",
      "|  \\  |\n",
      "| / \\ |\n",
      "| | | |\n",
      "| \\ / |\n",
      "|  \\  |\n",
      "| / \\ |\n",
      "| | | |\n",
      "| | | |\n",
      " -   - \n"
     ]
    }
   ],
   "source": [
    "draw_link_A(5, -3)\n",
    "draw_link_A(5, 3)\n",
    "draw_link_A(5, 2)"
   ]
  },
  {
   "cell_type": "markdown",
   "metadata": {},
   "source": [
    "Here we start Question 2(d), which states to show that changing the sign of all the crossings in S(p, q) gives you S(p, −q) = S(p, p − q).\n",
    "Firstly, we show that if all the crossings are switched then S(p, q) becomes S(p, -q):\n"
   ]
  },
  {
   "cell_type": "code",
   "execution_count": 41,
   "metadata": {},
   "outputs": [
    {
     "name": "stdout",
     "output_type": "stream",
     "text": [
      "(-5, -3)\n",
      "(-5, 3)\n",
      "(7, 4)\n",
      "(-7, 4)\n",
      "(3, 2)\n",
      "(3, -2)\n"
     ]
    }
   ],
   "source": [
    "#We use 3 examples, firstly we switch from the link [2, -3] to [-2, 3] and show what p and q they represent:\n",
    "print(list_to_rational([2, -3]))\n",
    "print(list_to_rational([-2, 3]))\n",
    "#Now we choose do [1, 1, 3] and it's negative counterpart. \n",
    "print(list_to_rational([1, 1, 3]))\n",
    "print(list_to_rational([-1, -1, -3]))\n",
    "#Finally do [1, 2] and [-1, -2]\n",
    "print(list_to_rational([1, 2]))\n",
    "print(list_to_rational([-1, -2]))\n",
    "\n",
    "#So if p/q has a continued fraction [a, b, c, ...] then -(p/q)= p/(-q) has continued fraction [-a, -b, -c, ...] \n",
    "#and this corresponds to switching all the crossing directions.\n"
   ]
  },
  {
   "cell_type": "markdown",
   "metadata": {},
   "source": [
    "Now we show that S(p, -q) = S(p, p - q):\n"
   ]
  },
  {
   "cell_type": "code",
   "execution_count": 23,
   "metadata": {},
   "outputs": [
    {
     "name": "stdout",
     "output_type": "stream",
     "text": [
      "The continued fraction is [2, -3] and the 2-bridge link diagram is:\n",
      " _____\n",
      "|  _  |\n",
      "| | | |\n",
      "| | \\ /\n",
      "| |  / \n",
      "| | / \\\n",
      "| | | |\n",
      "| | \\ /\n",
      "| |  / \n",
      "| | / \\\n",
      "| | | |\n",
      "| \\ / |\n",
      "|  /  |\n",
      "| / \\ |\n",
      "| | | |\n",
      "| \\ / |\n",
      "|  /  |\n",
      "| / \\ |\n",
      "| | | |\n",
      "| \\ / |\n",
      "|  /  |\n",
      "| / \\ |\n",
      "| | | |\n",
      " -   - \n",
      "The continued fraction is [-1, -1, -2] and the 2-bridge link diagram is:\n",
      " _____\n",
      "|  _  |\n",
      "| | \\ /\n",
      "| |  \\\n",
      "| | / \\\n",
      "| | | |\n",
      "| | | |\n",
      "| \\ / |\n",
      "|  /  |\n",
      "| / \\ |\n",
      "| | \\ /\n",
      "| |  \\\n",
      "| | / \\\n",
      "| | | |\n",
      "| | \\ /\n",
      "| |  \\\n",
      "| | / \\\n",
      "| | | |\n",
      "| | | |\n",
      "|  -  |\n",
      " ----- \n",
      "The continued fraction is [3, -2] and the 2-bridge link diagram is:\n",
      " _____\n",
      "|  _  |\n",
      "| | | |\n",
      "| | \\ /\n",
      "| |  / \n",
      "| | / \\\n",
      "| | | |\n",
      "| | \\ /\n",
      "| |  / \n",
      "| | / \\\n",
      "| | | |\n",
      "| | \\ /\n",
      "| |  / \n",
      "| | / \\\n",
      "| | | |\n",
      "| \\ / |\n",
      "|  /  |\n",
      "| / \\ |\n",
      "| | | |\n",
      "| \\ / |\n",
      "|  /  |\n",
      "| / \\ |\n",
      "| | | |\n",
      " -   - \n"
     ]
    }
   ],
   "source": [
    "draw_link_B(5, 3)\n",
    "draw_link_B(5, -3)\n",
    "draw_link_B(5, 2)"
   ]
  },
  {
   "cell_type": "markdown",
   "metadata": {},
   "source": [
    "In the above diagrams, to transfer from [3, -2] to [-1, -1, -2]: We pull the highest minimum point to the right, so that the bottom of the diagram looks like the knot we are trying to get to. Then we pull the top of the second-from-left line over to the right, and we have achieved the [-1, -1, -2] graph."
   ]
  },
  {
   "cell_type": "code",
   "execution_count": 32,
   "metadata": {},
   "outputs": [
    {
     "name": "stdout",
     "output_type": "stream",
     "text": [
      "The continued fraction is [-3, 1, 2] and the 2-bridge link diagram is:\n",
      " _____\n",
      "|  _  |\n",
      "| | \\ /\n",
      "| |  \\\n",
      "| | / \\\n",
      "| | | |\n",
      "| | \\ /\n",
      "| |  \\\n",
      "| | / \\\n",
      "| | | |\n",
      "| | \\ /\n",
      "| |  \\\n",
      "| | / \\\n",
      "| | | |\n",
      "| \\ / |\n",
      "|  \\  |\n",
      "| / \\ |\n",
      "| | | |\n",
      "| | | |\n",
      "| | \\ /\n",
      "| |  / \n",
      "| | / \\\n",
      "| | | |\n",
      "| | \\ /\n",
      "| |  / \n",
      "| | / \\\n",
      "| | | |\n",
      "|  -  |\n",
      " ----- \n",
      "The continued fraction is [1, 1, 3] and the 2-bridge link diagram is:\n",
      " _____\n",
      "|  _  |\n",
      "| | | |\n",
      "| | \\ /\n",
      "| |  / \n",
      "| | / \\\n",
      "| \\ / |\n",
      "|  \\  |\n",
      "| / \\ |\n",
      "| | | |\n",
      "| | | |\n",
      "| | \\ /\n",
      "| |  / \n",
      "| | / \\\n",
      "| | | |\n",
      "| | \\ /\n",
      "| |  / \n",
      "| | / \\\n",
      "| | | |\n",
      "| | \\ /\n",
      "| |  / \n",
      "| | / \\\n",
      "| | | |\n",
      "|  -  |\n",
      " ----- \n"
     ]
    }
   ],
   "source": [
    "draw_link_A(7, -3)\n",
    "draw_link_A(7, 4)"
   ]
  },
  {
   "cell_type": "markdown",
   "metadata": {},
   "source": [
    "To transfer from [-3, 1, 2] to [1, 1, 3] we lift the bottom maxima over to the right and then slide it back under the line it was lifted over. "
   ]
  },
  {
   "cell_type": "code",
   "execution_count": 4,
   "metadata": {},
   "outputs": [
    {
     "name": "stdout",
     "output_type": "stream",
     "text": [
      "The continued fraction is [-2, 2] and the 2-bridge link diagram is:\n",
      " _____\n",
      "|  _  |\n",
      "| | \\ /\n",
      "| |  \\\n",
      "| | / \\\n",
      "| | | |\n",
      "| | \\ /\n",
      "| |  \\\n",
      "| | / \\\n",
      "| | | |\n",
      "| \\ / |\n",
      "|  \\  |\n",
      "| / \\ |\n",
      "| | | |\n",
      "| \\ / |\n",
      "|  \\  |\n",
      "| / \\ |\n",
      "| | | |\n",
      "| | | |\n",
      " -   - \n",
      "The continued fraction is [3] and the 2-bridge link diagram is:\n",
      " _____\n",
      "|  _  |\n",
      "| | | |\n",
      "| | \\ /\n",
      "| |  / \n",
      "| | / \\\n",
      "| | | |\n",
      "| | \\ /\n",
      "| |  / \n",
      "| | / \\\n",
      "| | | |\n",
      "| | \\ /\n",
      "| |  / \n",
      "| | / \\\n",
      "| | | |\n",
      "|  -  |\n",
      " ----- \n"
     ]
    }
   ],
   "source": [
    "draw_link_A(3, -2)\n",
    "draw_link_A(3, 1)"
   ]
  },
  {
   "cell_type": "markdown",
   "metadata": {},
   "source": [
    "To change from [-2, 2] to [3]: Move the bottom-right minimum point onto the inside of the bottom-left minimum point, so the bottom of the diagram now resembles the bottom of the [3] diagram. Then we lift the top of the second-from-the-left line and pull it over the right, making sure the far left line has no intersections with other lines. This gives the [3[ diagram.]]"
   ]
  },
  {
   "cell_type": "code",
   "execution_count": 25,
   "metadata": {},
   "outputs": [],
   "source": [
    "def draw_link_C(A):\n",
    "    print('The continued fraction is', A, 'and the 2-bridge link diagram is:')\n",
    "    print(' _____')\n",
    "    print('|  _  |')\n",
    "    \n",
    "    #A = np.absolute(A)  #If any elements of A are negative, this should make them positive\n",
    "         \n",
    "    for i in range(len(A)): #This goes through all the indices of the array/list\n",
    "        #if i == 0:       #Always right over left to begin with.\n",
    "          #  for n in range(A[i]): #This repeats the twist however many times is necessary\n",
    "         #       print(\"| | | |\")\n",
    "          #      print(\"| | \\ /\")\n",
    "          #      print(\"| |  / \")\n",
    "          #      print(\"| | / \\\\\")\n",
    "            \n",
    "        if A[i] > 0:      #If positive number, follow this:\n",
    "            if i == 0:       #Always right over left to begin with.\n",
    "                for n in range(A[i]): #This repeats the twist however many times is necessary\n",
    "                    print(\"| | | |\")\n",
    "                    print(\"| | \\ /\")\n",
    "                    print(\"| |  / \")\n",
    "                    print(\"| | / \\\\\")\n",
    "            elif (i+1)%2 != 0: #Check if index is even\n",
    "                for n in range(A[i]): #Again, this repeats the twist however many times is necessary\n",
    "                    print(\"| | | |\")\n",
    "                    print(\"| | \\ /\")\n",
    "                    print(\"| |  / \")\n",
    "                    print(\"| | / \\\\\")\n",
    "            else:             #this picks up all the odd indexes\n",
    "                for n in range(A[i]): #Finally, again, this repeats the twist however many times is necessary\n",
    "                    print(\"| \\ / |\")\n",
    "                    print(\"|  \\  |\")\n",
    "                    print(\"| / \\ |\")\n",
    "                    print(\"| | | |\")\n",
    "        else:  #If negative, follow this:\n",
    "            if i == 0:\n",
    "                for n in range(-1*A[i]):       \n",
    "                    print(\"| | \\ /\")\n",
    "                    print(\"| |  \\\\\")\n",
    "                    print(\"| | / \\\\\")\n",
    "                    print(\"| | | |\")\n",
    "            elif (i+1)%2 != 0:  #even\n",
    "                for n in range(-1*A[i]):       \n",
    "                    print(\"| | \\ /\")\n",
    "                    print(\"| |  \\\\\")\n",
    "                    print(\"| | / \\\\\")\n",
    "                    print(\"| | | |\")          #POSSIBLY MOVE THIS LINE TO TOP OF PRINT STATEMENTS, COULD MAKE IT LOOK MORE CLEAN?\n",
    "            else:             #odd\n",
    "                for n in range(-1*A[i]):\n",
    "                    print(\"| | | |\")\n",
    "                    print(\"| \\ / |\")\n",
    "                    print(\"|  /  |\")\n",
    "                    print(\"| / \\ |\")\n",
    "                              #POSSIBLY MOVE THIS LINE TO TOP OF PRINT STATEMENTS, COULD MAKE IT LOOK MORE CLEAN?\n",
    "                    \n",
    "            \n",
    "                \n",
    "    if ((len(A)+1)%2) == 0:  #if final entry is even then end it this way:\n",
    "        print(\"| | | |\")\n",
    "        print(\"|  -  |\")\n",
    "        print(\" ----- \")\n",
    "        \n",
    "    else:                   #otherwise end it this way\n",
    "        print(\"| | | |\")\n",
    "        print(\" -   - \")\n",
    "    "
   ]
  },
  {
   "cell_type": "code",
   "execution_count": 26,
   "metadata": {},
   "outputs": [
    {
     "name": "stdout",
     "output_type": "stream",
     "text": [
      "The continued fraction is [2, 2] and the 2-bridge link diagram is:\n",
      " _____\n",
      "|  _  |\n",
      "| | | |\n",
      "| | \\ /\n",
      "| |  / \n",
      "| | / \\\n",
      "| | | |\n",
      "| | \\ /\n",
      "| |  / \n",
      "| | / \\\n",
      "| \\ / |\n",
      "|  \\  |\n",
      "| / \\ |\n",
      "| | | |\n",
      "| \\ / |\n",
      "|  \\  |\n",
      "| / \\ |\n",
      "| | | |\n",
      "| | | |\n",
      " -   - \n",
      "The continued fraction is [-2, -2] and the 2-bridge link diagram is:\n",
      " _____\n",
      "|  _  |\n",
      "| | \\ /\n",
      "| |  \\\n",
      "| | / \\\n",
      "| | | |\n",
      "| | \\ /\n",
      "| |  \\\n",
      "| | / \\\n",
      "| | | |\n",
      "| | | |\n",
      "| \\ / |\n",
      "|  /  |\n",
      "| / \\ |\n",
      "| | | |\n",
      "| \\ / |\n",
      "|  /  |\n",
      "| / \\ |\n",
      "| | | |\n",
      " -   - \n"
     ]
    }
   ],
   "source": [
    "draw_link_C([2, 2])\n",
    "draw_link_C([-2, -2])"
   ]
  },
  {
   "cell_type": "code",
   "execution_count": 27,
   "metadata": {},
   "outputs": [
    {
     "name": "stdout",
     "output_type": "stream",
     "text": [
      "[2, -3]\n",
      "(-5, -3)\n",
      "(-5, 3)\n"
     ]
    }
   ],
   "source": [
    "print(rational_to_list2(5, 3)) #This says the continued fraction for 5/3 is [2, -3], which i checked and is right\n",
    "\n",
    "print(list_to_rational([2, -3])) #This says the rational from [2, -3] is 3/1 = 3 ?\n",
    "\n",
    "print(list_to_rational([-2, 3])) #[2, -3] == -[-2, 3] so should give negative of same answer, but says rational is -1/1 = -1 ?"
   ]
  },
  {
   "cell_type": "code",
   "execution_count": null,
   "metadata": {},
   "outputs": [],
   "source": [
    "\n"
   ]
  },
  {
   "cell_type": "code",
   "execution_count": null,
   "metadata": {},
   "outputs": [],
   "source": []
  },
  {
   "cell_type": "code",
   "execution_count": null,
   "metadata": {},
   "outputs": [],
   "source": []
  },
  {
   "cell_type": "code",
   "execution_count": null,
   "metadata": {},
   "outputs": [],
   "source": []
  },
  {
   "cell_type": "code",
   "execution_count": 28,
   "metadata": {},
   "outputs": [],
   "source": [
    "#Start question 3:"
   ]
  },
  {
   "cell_type": "markdown",
   "metadata": {},
   "source": [
    "We investigate the relationship between S(p, q) and S(p, q') where qq' is congruent to 1, under mod p. This means that under modular arithmetic with base p, q and q' are inverses (e.g their product is equal to 1).\n"
   ]
  },
  {
   "cell_type": "code",
   "execution_count": 29,
   "metadata": {},
   "outputs": [
    {
     "name": "stdout",
     "output_type": "stream",
     "text": [
      "The continued fraction is [2, 2] and the 2-bridge link diagram is:\n",
      " _____\n",
      "|  _  |\n",
      "| | | |\n",
      "| | \\ /\n",
      "| |  / \n",
      "| | / \\\n",
      "| | | |\n",
      "| | \\ /\n",
      "| |  / \n",
      "| | / \\\n",
      "| \\ / |\n",
      "|  \\  |\n",
      "| / \\ |\n",
      "| | | |\n",
      "| \\ / |\n",
      "|  \\  |\n",
      "| / \\ |\n",
      "| | | |\n",
      "| | | |\n",
      " -   - \n",
      "The continued fraction is [1, 1, 2] and the 2-bridge link diagram is:\n",
      " _____\n",
      "|  _  |\n",
      "| | | |\n",
      "| | \\ /\n",
      "| |  / \n",
      "| | / \\\n",
      "| \\ / |\n",
      "|  \\  |\n",
      "| / \\ |\n",
      "| | | |\n",
      "| | | |\n",
      "| | \\ /\n",
      "| |  / \n",
      "| | / \\\n",
      "| | | |\n",
      "| | \\ /\n",
      "| |  / \n",
      "| | / \\\n",
      "| | | |\n",
      "|  -  |\n",
      " ----- \n"
     ]
    }
   ],
   "source": [
    "#Let's start with p = 5, and set q = 2 and q' = 3. We can see 2*3 is 6, and 6 % 5 = 1.\n",
    "\n",
    "draw_link_A(5, 2)\n",
    "draw_link_A(5, 3)\n",
    "\n"
   ]
  },
  {
   "cell_type": "code",
   "execution_count": 30,
   "metadata": {},
   "outputs": [],
   "source": [
    "#Here we define a function to find pairs of integers such that their product is congruent to 1 mod p\n",
    "\n",
    "def mod_inverses(p, lim):\n",
    "    #First we get a list of integers\n",
    "    integers = []\n",
    "    for i in range(0, lim):\n",
    "        integers.append(i)\n",
    "    #Now we do the main function\n",
    "    Pairs = []\n",
    "    for i in range(0, lim):\n",
    "        for j in range(0, lim):\n",
    "            \n",
    "            if ((i*integers[j]%p)) == 1:\n",
    "                first_number = i\n",
    "                second_number = integers[j]\n",
    "                string = 'Pairs are ' +str(first_number) + ' and '+ str(second_number)\n",
    "                Pairs.append(string)\n",
    "    return Pairs\n",
    "\n",
    "mod_inverses(7, 10)\n",
    "#This next function draws the diagrams for the pairs of q and q', for multiple different values.\n",
    "#NEEDS IMPROVEMENT SINCE IF ONE OF THE NUMBERS FROM MOD-INVERSES IS 2-DIGIT, IT WILL MAKE A MISTAKE I THINK\n",
    "def draw_inverse_pairs(p, lim):\n",
    "    for i in range(0, lim):\n",
    "        \n",
    "        fstring = (mod_inverses(p, lim)[i])\n",
    "        if type(fstring[11]) is int:\n",
    "            firstnumber = int(fstring[10] + fstring[11])\n",
    "        elif type(fstring[12]) is int:\n",
    "            firstnumber = int(fstring[10] + fstring[11] + fstring[12])\n",
    "        else:\n",
    "            firstnumber = int(fstring[10])\n",
    "        \n",
    "        if len(fstring) > 17: \n",
    "            if type(fstring[17]) is int:\n",
    "                secondnumber = int(fstring[16] + fstring[17])\n",
    "        elif len(fstring) > 18:\n",
    "            if type(fstring[18]) is int:\n",
    "                secondnumber = int(fstring[16] + fstring[17] + fstring[18])\n",
    "        else:\n",
    "            secondnumber = int(fstring[16])\n",
    "            \n",
    "        print(firstnumber); print(secondnumber)\n",
    "        print('This following diagram is for ' + str(p) + '/' + str(firstnumber))\n",
    "        draw_link_A(p, firstnumber)\n",
    "        print('This following diagram is for ' + str(p) + '/' + str(secondnumber))\n",
    "        draw_link_A(p, secondnumber)\n",
    "        print('                     ')\n",
    "        print('                     ')\n",
    "        print('                     ')\n",
    "        print(' - - - - - - - - - - ')\n",
    "        print('                     ')\n",
    "        print('                     ')\n",
    "        print('                     ')\n",
    "#print(mod_inverses(7,20))        \n",
    "#draw_inverse_pairs(7, 40)\n",
    "    \n",
    "            \n",
    "        \n",
    "        "
   ]
  },
  {
   "cell_type": "code",
   "execution_count": null,
   "metadata": {},
   "outputs": [],
   "source": []
  }
 ],
 "metadata": {
  "kernelspec": {
   "display_name": "Python 3",
   "language": "python",
   "name": "python3"
  },
  "language_info": {
   "codemirror_mode": {
    "name": "ipython",
    "version": 3
   },
   "file_extension": ".py",
   "mimetype": "text/x-python",
   "name": "python",
   "nbconvert_exporter": "python",
   "pygments_lexer": "ipython3",
   "version": "3.7.4"
  }
 },
 "nbformat": 4,
 "nbformat_minor": 2
}
